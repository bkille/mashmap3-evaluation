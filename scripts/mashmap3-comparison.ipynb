{
 "cells": [
  {
   "cell_type": "code",
   "execution_count": 2,
   "id": "53dc93f2-6e32-4c6a-be7f-c09051eaea69",
   "metadata": {},
   "outputs": [],
   "source": [
    "from pafpy import PafFile\n",
    "from tqdm.notebook import tqdm\n",
    "from collections import defaultdict\n",
    "import intervaltree as itree\n",
    "from Bio import SeqIO\n",
    "import matplotlib.pyplot as plt\n",
    "from scipy import stats\n",
    "import numpy as np\n",
    "from collections import defaultdict\n",
    "import time\n",
    "plt.rcParams[\"figure.figsize\"] = (10, 6)\n",
    "plt.rcParams[\"figure.facecolor\"] = \"white\"\n",
    "plt.rcParams.update({'font.size': 18})\n",
    "import math, re"
   ]
  },
  {
   "cell_type": "code",
   "execution_count": 3,
   "id": "11e53d8b-992b-41bb-b2a9-b94844bd6147",
   "metadata": {},
   "outputs": [],
   "source": [
    "from glob import glob\n",
    "# from hurry.filesize import size\n",
    "import psutil\n",
    "import shlex\n",
    "import csv\n",
    "from pathlib import Path\n",
    "import itertools\n",
    "import random\n",
    "from collections import namedtuple\n",
    "from dataclasses import dataclass, field"
   ]
  },
  {
   "cell_type": "code",
   "execution_count": 5,
   "id": "2625647d-f028-4382-bde0-195eb8b25a0a",
   "metadata": {},
   "outputs": [],
   "source": [
    "Minimap2Params = namedtuple(\"Minimap2Params\", \"is_ont n\")\n",
    "MashMap3Params = namedtuple(\"MashMap3Params\", \"L k ss pi n\")\n",
    "MashMap2Params = namedtuple(\"MashMap2Params\", \"L k w pi n\")\n",
    "MashMapParams = namedtuple(\"MashMapParams\", \"L k ss pi n tool\")\n",
    "ParameterSet = namedtuple(\"ParameterSet\", \"dataset mashmap2_params mashmap3_params minimap2_params\")\n",
    "Dataset = namedtuple(\"Dataset\", \"name reference queries\")\n",
    "\n",
    "@dataclass\n",
    "class RunProfile:\n",
    "    time: int = 0\n",
    "    memory: int = 0"
   ]
  },
  {
   "cell_type": "code",
   "execution_count": 4,
   "id": "a9f9f18b-88fa-4676-abac-5aacdcce8967",
   "metadata": {
    "tags": []
   },
   "outputs": [],
   "source": [
    "ss_to_dens_5000 = {10: 0.0027033015587942942,\n",
    " 20: 0.004999545524382726,\n",
    " 30: 0.007225297850085516,\n",
    " 40: 0.009414666280896978,\n",
    " 50: 0.011580825266216262,\n",
    " 60: 0.0137304687797538,\n",
    " 70: 0.015867562596763904,\n",
    " 75: 0.0169,\n",
    " 80: 0.017994721638507495,\n",
    " 90: 0.020113733315396117,\n",
    " 100: 0.022225882956137456,\n",
    " 110: 0.024332211034229525,\n",
    " 120: 0.026433437214099118,\n",
    " 130: 0.028530192910771867,\n",
    " 140: 0.03062297923626709,\n",
    " 150: 0.032712196059314504,\n",
    " 160: 0.03479819307413521,\n",
    " 170: 0.03688125618779697,\n",
    " 180: 0.038961631636590104,\n",
    " 190: 0.04103953307815283,\n",
    " 200: 0.04310220928250878,\n",
    " 300: 0.06375817159996389,\n",
    " 400: 0.08429124072361874,\n",
    " 500: 0.10474345862936014,\n",
    " 600: 0.12513590112065218,\n",
    " 700: 0.14548170418253295,\n",
    " 800: 0.16578947227428895,\n",
    " 900: 0.18606471061147348,\n",
    " 1000: 0.206311821699839}\n",
    "ss_to_w = {ss: int(np.round(2/dens)) - 1 for (ss, dens) in ss_to_dens_5000.items()}\n",
    "\n",
    "# ss_to_w[300] = 30\n",
    "# ss_to_w[400] = 23\n",
    "# ss_to_w[500] = 20"
   ]
  },
  {
   "cell_type": "code",
   "execution_count": 93,
   "id": "803b7725-f0c4-4a20-bac1-b3830f147b89",
   "metadata": {},
   "outputs": [
    {
     "data": {
      "text/plain": [
       "250855428.91421717"
      ]
     },
     "execution_count": 93,
     "metadata": {},
     "output_type": "execute_result"
    }
   ],
   "source": [
    "(1 - (5000-200+1) * (5000-200) / (5000*(5000+1))) * 3.2e9"
   ]
  },
  {
   "cell_type": "code",
   "execution_count": 89,
   "id": "ec9b819f-88be-465d-8655-603114af0744",
   "metadata": {
    "tags": []
   },
   "outputs": [
    {
     "name": "stdout",
     "output_type": "stream",
     "text": [
      "{10: 739,\n",
      " 20: 399,\n",
      " 30: 276,\n",
      " 40: 211,\n",
      " 50: 172,\n",
      " 60: 145,\n",
      " 70: 125,\n",
      " 75: 117,\n",
      " 80: 110,\n",
      " 90: 98,\n",
      " 100: 89,\n",
      " 110: 81,\n",
      " 120: 75,\n",
      " 130: 69,\n",
      " 140: 64,\n",
      " 150: 60,\n",
      " 160: 56,\n",
      " 170: 53,\n",
      " 180: 50,\n",
      " 190: 48,\n",
      " 200: 45,\n",
      " 300: 30,\n",
      " 400: 23,\n",
      " 500: 18,\n",
      " 600: 15,\n",
      " 700: 13,\n",
      " 800: 11,\n",
      " 900: 10,\n",
      " 1000: 9}\n"
     ]
    }
   ],
   "source": [
    "pprint(ss_to_w)"
   ]
  },
  {
   "cell_type": "code",
   "execution_count": 11,
   "id": "bb425234-73e1-427e-833d-56f7a445e6cf",
   "metadata": {},
   "outputs": [],
   "source": [
    "empty_fasta = \"/home/Users/blk6/Data/reads/empty.fa\"\n",
    "human_assemblies = list(glob(\"/home/Users/blk6/Data/assemblies/human/GCA_*.fa\"))\n",
    "human_assembly_HG02257 = \"/home/Users/blk6/Data/assemblies/human/GCA_018466835.1.fa\"\n",
    "human_ref = \"/home/Users/blk6/Data/assemblies/human/T2T_v2.1.fna\"\n",
    "HiFi_reads = \"/home/Users/blk6/Data/reads/human/HiFi-5000-d2.fa\"\n",
    "ONT_reads = {ANI: f\"/home/Users/blk6/Data/reads/human/ONT-{ANI}-nosd-d.5-5000.fa\" for ANI in [99, 98, 95]}\n",
    "ONT_indel_balanced_reads = {ANI: f\"/home/Users/blk6/Data/reads/human/ONT-{ANI}-nosd-balanced-d2-5000.fa\" for ANI in [99, 98, 95]}\n",
    "yeast_pangenome = \"/home/Users/blk6/Contribute/wfmash/ref-genomes/cerevisiae.pan.fa\"\n",
    "# chm13_mapquik = \"/home/Users/blk6/Contribute/mapquik/experiments/nearperfect-chm13.10X.24kb.fa\"\n",
    "# maize_mapquik = \"/home/Users/blk6/Contribute/mapquik/experiments/simulated-maize.30X.fa\"\n",
    "# maize_reference = \"/home/Users/blk6/Data/assemblies/maize/ref/GCF_000005005.2_B73_RefGen_v4_genomic.fna\"\n",
    "\n",
    "\n",
    "# mapquik_chm13_run = [(human_ref, [chm13_mapquik], \"mapquik-chm13\")]\n",
    "# mapquik_maize_run = [(maize_reference, [maize_mapquik], \"mapquik-maize\")]\n",
    "\n",
    "empty_dataset = Dataset(\"empty-dataset\", human_ref, (empty_fasta,))\n",
    "chm13_hifi_dataset = Dataset(\"chm13-HiFi-reads\", human_ref, (HiFi_reads,))\n",
    "chm13_ONT_datasets = {ANI: Dataset(f\"chm13-ONT-{ANI}-reads\", human_ref, (ONT_reads[ANI],)) for ANI in ONT_reads}\n",
    "chm13_ONT_indel_balanced_datasets = {ANI: Dataset(f\"chm13-ONT-indel-balanced-{ANI}-reads\", human_ref, (ONT_indel_balanced_reads[ANI],)) for ANI in ONT_reads}\n",
    "chm13_HG02257_dataset = Dataset(\"chm13-HG02257\", human_ref, (human_assembly_HG02257,))\n",
    "yeast_pangenome_dataset = Dataset(\"yeast-pangenome\", yeast_pangenome, [])"
   ]
  },
  {
   "cell_type": "code",
   "execution_count": 6,
   "id": "22212b02-4b70-4129-a187-d562f06dd3ad",
   "metadata": {},
   "outputs": [],
   "source": [
    "dataset_run_profile = defaultdict(        # Dataset name\n",
    "    lambda: defaultdict(                  # Tool ParamsObj\n",
    "        lambda: {                         \n",
    "            \"map\": RunProfile(), \n",
    "            \"align\": RunProfile()\n",
    "        }\n",
    "    )\n",
    ")"
   ]
  },
  {
   "cell_type": "code",
   "execution_count": 18,
   "id": "d4bfb7ca-29e7-4e77-8d0e-1ca15a5fd79a",
   "metadata": {},
   "outputs": [],
   "source": [
    "toolnames = [\n",
    "    # \"mashmap2\"]\n",
    "    \"mashmap3\"]\n",
    "runs = defaultdict(list)\n",
    "\n",
    "# HiFi run\n",
    "default_pi = 95\n",
    "L = 5000\n",
    "n = 1\n",
    "# for dataset in [chm13_HG02257_dataset, chm13_hifi_dataset, yeast_pangenome_dataset]:\n",
    "#     for k in [19, 31]:\n",
    "#         for ss in range(10, 81, 10):\n",
    "#             mm3_params = MashMap3Params(L, k, ss, pi, n)\n",
    "#             runs[dataset].append(mm3_params)\n",
    "\n",
    "\n",
    "sketch_sizes = [20, 50, 80, 100, 150, 200, 300, 400]\n",
    "# sketch_sizes = [150]\n",
    "kmers = [19]\n",
    "\n",
    "for k in kmers:\n",
    "    for ss in sketch_sizes:\n",
    "        # for tool in toolnames:\n",
    "        #     if \"empty\" in tool:\n",
    "        #         mm3_params = MashMapParams(L, k, ss, default_pi, n, tool=tool)\n",
    "        #         runs[empty_dataset].append(mm3_params)\n",
    "\n",
    "        for ANI, dataset in chm13_ONT_indel_balanced_datasets.items():\n",
    "            pi = ANI-5 # What should this be???\n",
    "            for tool in toolnames:\n",
    "                if \"empty\" in tool:\n",
    "                    continue\n",
    "                mm3_params = MashMapParams(L, k, ss, pi, n, tool=tool)\n",
    "                runs[dataset].append(mm3_params)\n",
    "                \n",
    "                \n",
    "# for ANI, dataset in chm13_ONT_indel_balanced_datasets.items():\n",
    "#     mm3_params = MashMapParams(5000, 19, 150, 95, 1, tool=\"minimap2\")\n",
    "#     runs[dataset].append(mm3_params)            \n",
    "\n",
    "\n",
    "# for k, ss, ANI in [(19, 200, 99), (19, 200, 98), (19, 200, 95)]:\n",
    "#     dataset = chm13_ONT_datasets[ANI]\n",
    "#     pi = ANI-5 # What should this be???\n",
    "#     mm3_params = MashMapParams(L, k, ss, pi, n, tool=\"mashmap3-hgf-fs\")\n",
    "#     runs[dataset].append(mm3_params)\n",
    "#     mm3_params = MashMapParams(L, k, ss, pi, n, tool=\"mashmap3\")\n",
    "#     runs[dataset].append(mm3_params)\n"
   ]
  },
  {
   "cell_type": "code",
   "execution_count": 15,
   "id": "0dfd8ee5-eed5-45a8-8643-1a1ffa8bf829",
   "metadata": {},
   "outputs": [
    {
     "name": "stdout",
     "output_type": "stream",
     "text": [
      "1 [Dataset(name='chm13-ONT-indel-balanced-95-reads', reference='/home/Users/blk6/Data/assemblies/human/T2T_v2.1.fna', queries=('/home/Users/blk6/Data/reads/human/ONT-95-nosd-balanced-d2-5000.fa',))]\n"
     ]
    }
   ],
   "source": [
    "print(len(runs), list(runs)[:10])"
   ]
  },
  {
   "cell_type": "code",
   "execution_count": 16,
   "id": "d81df955-623b-4324-8813-cc61c48168e9",
   "metadata": {},
   "outputs": [
    {
     "name": "stdout",
     "output_type": "stream",
     "text": [
      "Running mashmap2-ss20-k19-p90-n1-L5000\n",
      "Done mashmap2-ss20-k19-p90-n1-L5000\t 16478.58\n",
      "Running mashmap2-ss50-k19-p90-n1-L5000\n",
      "Done mashmap2-ss50-k19-p90-n1-L5000\t 7634.37\n",
      "Running mashmap2-ss80-k19-p90-n1-L5000\n",
      "Done mashmap2-ss80-k19-p90-n1-L5000\t 7882.92\n",
      "Running mashmap2-ss100-k19-p90-n1-L5000\n",
      "Done mashmap2-ss100-k19-p90-n1-L5000\t 10179.88\n"
     ]
    }
   ],
   "source": [
    "CONCURRENT_RUNS = 1\n",
    "THREADS = 16\n",
    "run_name_to_fstream = defaultdict(lambda: defaultdict(dict))\n",
    "active_runs = {}\n",
    "with open(\"runtimes.txt\", \"w\") as profile_out:\n",
    "    profile_out.write(f\"Run-basename\\ttime\")\n",
    "\n",
    "for dataset, params_list in runs.items():\n",
    "    for params in params_list:\n",
    "        dataset_name = dataset.name\n",
    "        ref = dataset.reference\n",
    "        queries = dataset.queries\n",
    "        run_base_name = f\"{params.tool}-ss{params.ss}-k{params.k}-p{params.pi}-n{params.n}-L{params.L}\"\n",
    "        output_dir = f\"/home/Users/blk6/Contribute/wfmash/benchmarking/{dataset_name}/{run_base_name}\"\n",
    "        Path(output_dir).mkdir(parents=True, exist_ok=True)\n",
    "        if \"mashmap3\" in params.tool:\n",
    "            index_file = Path(f\"/home/Users/blk6/Contribute/wfmash/benchmarking/index-test/human-ss{params.ss}-k{params.k}-L{params.L}.index\")\n",
    "            # if save in tool:\n",
    "            #     index_flag = f\"--indexSave {index_file}\"\n",
    "            # elif \"noload\" in tool:\n",
    "            #     index_flag = \"\"\n",
    "            # else:\n",
    "            #     assert(index_file.exists())\n",
    "            #     index_flag = f\"--indexLoad {index_file}\"\n",
    "            index_flag = \"\"\n",
    "            cmd_args = f\"\"\"\n",
    "                /usr/bin/time -v /home/Users/blk6/Contribute/MashMap/build-release/bin/mashmap\n",
    "                --noMerge \n",
    "                --blockLength 1 \n",
    "                {index_flag}\n",
    "                -k {params.k} \n",
    "                --sketchSize {params.ss} \n",
    "                -t {THREADS} \n",
    "                -n {params.n} \n",
    "                --pi {params.pi} \n",
    "                -s {params.L} \n",
    "                -r {ref} \n",
    "                -q {' '.join(queries)} \n",
    "                \"\"\".replace(\"\\n\", \" \")\n",
    "            stdout_file = open(f\"{output_dir}/{params.tool}.approx.paf\", 'w')\n",
    "        elif params.tool == \"mashmap2\":\n",
    "            cmd_args = f\"\"\"\n",
    "                /usr/bin/time -v /home/Users/blk6/Contribute/MashMap-orig/mashmap\n",
    "                -k {params.k} \n",
    "                --window_size {math.ceil(ss_to_w[params.ss])} \n",
    "                -t {THREADS}\n",
    "                --pi {params.pi} \n",
    "                -s {params.L} \n",
    "                -o {output_dir}/{params.tool}.approx.paf\n",
    "                -r {ref} -q {' '.join(queries)}\"\"\".replace(\"\\n\", \" \")\n",
    "            stdout_file = open(f\"{output_dir}/{params.tool}.out\", 'w')\n",
    "        elif params.tool == \"minimap2\":\n",
    "            cmd_args = f\"\"\"\n",
    "                /usr/bin/time -v minimap2\n",
    "                {ref} {' '.join(queries)}\n",
    "                -t {THREADS}\n",
    "                -x map-ont\"\"\".replace(\"\\n\", \" \")\n",
    "            stdout_file = open(f\"{output_dir}/{params.tool}.approx.paf\", 'w')\n",
    "        cmd_args = re.sub(' +', ' ', cmd_args)\n",
    "        # print(cmd_args)\n",
    "        run_name_to_fstream[run_base_name][\"stdout\"] = stdout_file\n",
    "        stderr_file = open(f\"{output_dir}/{params.tool}.err\", 'w')\n",
    "        run_name_to_fstream[run_base_name][\"stderr\"] = stderr_file\n",
    "        print(f\"Running {run_base_name}\")\n",
    "        active_runs[run_base_name] = (psutil.Popen(shlex.split(cmd_args), stdout=stdout_file, stderr=stderr_file), params.tool)\n",
    "        time_tracker = 0\n",
    "        while len(active_runs) >= CONCURRENT_RUNS:\n",
    "            active_run_pairs = list(active_runs.items())\n",
    "            for rbn, (p, st) in active_run_pairs:\n",
    "                # t2 = None\n",
    "                try:\n",
    "                    if p.status() == \"zombie\":\n",
    "                        raise psutil.NoSuchProcess(p.pid)\n",
    "                    curtime = time.time()\n",
    "                    if curtime > time_tracker + 5:\n",
    "                        dataset_run_profile[dataset_name][run_base_name][\"map\"].memory = max(dataset_run_profile[dataset_name][run_base_name][\"map\"].memory, p.memory_info().rss)\n",
    "                    t2 = p.cpu_times()\n",
    "                    dataset_run_profile[dataset_name][run_base_name][\"map\"].time = t2.system + t2.user + t2.children_system + t2.children_user\n",
    "                except psutil.NoSuchProcess as e:\n",
    "                    with open(\"runtimes.txt\", \"a\") as profile_out:\n",
    "                        profile_out.write(f\"{'EMPTY' if dataset_name == 'empty-dataset' else ''}-{rbn}\\t{dataset_run_profile[dataset_name][run_base_name]['map'].time : .2f}\\n\")\n",
    "                    print(f\"Done {rbn}\\t{dataset_run_profile[dataset_name][run_base_name]['map'].time : .2f}\")\n",
    "                    run_name_to_fstream[rbn][\"stdout\"].close()\n",
    "                    run_name_to_fstream[rbn][\"stderr\"].close()\n",
    "                    del run_name_to_fstream[rbn]\n",
    "                    del active_runs[rbn]\n",
    "            if curtime > time_tracker + 5:\n",
    "                time_tracker = curtime\n",
    "\n",
    "time_tracker = 0\n",
    "while len(active_runs) > 0:\n",
    "    active_run_pairs = list(active_runs.items())\n",
    "    for rbn, (p, st) in active_run_pairs:\n",
    "        t2 = None\n",
    "        try:\n",
    "            curtime = time.time()\n",
    "            if curtime > time_tracker + 5:\n",
    "                dataset_run_profile[dataset_name][run_base_name][\"map\"].memory = max(dataset_run_profile[dataset_name][run_base_name][\"map\"].memory, p.memory_info().rss)\n",
    "            t2 = p.cpu_times()\n",
    "            dataset_run_profile[dataset_name][run_base_name][\"map\"].time = t2.system + t2.user + t2.children_system + t2.children_user\n",
    "            if p.status() == \"zombie\":\n",
    "                raise psutil.NoSuchProcess(p.pid)\n",
    "        except psutil.NoSuchProcess as e:\n",
    "            with open(\"runtimes.txt\", \"a\") as profile_out:\n",
    "                profile_out.write(f\"{'EMPTY' if dataset_name == 'empty-dataset' else ''}-{rbn}\\t{dataset_run_profile[dataset_name][run_base_name]['map'].time : .2f}\\n\")\n",
    "            print(f\"Done {rbn}\\t{dataset_run_profile[dataset_name][run_base_name]['map'].time : .2f}\")\n",
    "            run_name_to_fstream[rbn][\"stdout\"].close()\n",
    "            run_name_to_fstream[rbn][\"stderr\"].close()\n",
    "            del run_name_to_fstream[rbn]\n",
    "            del active_runs[rbn]\n",
    "    if curtime > time_tracker + 5:\n",
    "        time_tracker = curtime\n",
    "                        \n"
   ]
  },
  {
   "cell_type": "code",
   "execution_count": 27,
   "id": "ce33415d-8c8c-4226-a252-cf4e036e70cc",
   "metadata": {
    "tags": []
   },
   "outputs": [
    {
     "data": {
      "text/plain": [
       "pcputimes(user=0.0, system=0.0, children_user=6634.55, children_system=607.81, iowait=0.0)"
      ]
     },
     "execution_count": 27,
     "metadata": {},
     "output_type": "execute_result"
    }
   ],
   "source": [
    "t2"
   ]
  },
  {
   "cell_type": "code",
   "execution_count": 36,
   "id": "cded31e6-a182-40f4-8a8d-9d9bcf6aad8b",
   "metadata": {
    "collapsed": true,
    "jupyter": {
     "outputs_hidden": true
    },
    "tags": []
   },
   "outputs": [
    {
     "ename": "AttributeError",
     "evalue": "'str' object has no attribute 'L'",
     "output_type": "error",
     "traceback": [
      "\u001b[0;31m---------------------------------------------------------------------------\u001b[0m",
      "\u001b[0;31mAttributeError\u001b[0m                            Traceback (most recent call last)",
      "Input \u001b[0;32mIn [36]\u001b[0m, in \u001b[0;36m<cell line: 2>\u001b[0;34m()\u001b[0m\n\u001b[1;32m      5\u001b[0m \u001b[38;5;28;01mfor\u001b[39;00m dataset_name, param_dict \u001b[38;5;129;01min\u001b[39;00m dataset_run_profile\u001b[38;5;241m.\u001b[39mitems():\n\u001b[1;32m      6\u001b[0m     \u001b[38;5;28;01mfor\u001b[39;00m mm3_params, profile \u001b[38;5;129;01min\u001b[39;00m param_dict\u001b[38;5;241m.\u001b[39mitems():\n\u001b[1;32m      7\u001b[0m         writer\u001b[38;5;241m.\u001b[39mwriterow({\n\u001b[1;32m      8\u001b[0m             \u001b[38;5;124m\"\u001b[39m\u001b[38;5;124mName\u001b[39m\u001b[38;5;124m\"\u001b[39m: dataset_name,\n\u001b[0;32m----> 9\u001b[0m             \u001b[38;5;124m\"\u001b[39m\u001b[38;5;124mL\u001b[39m\u001b[38;5;124m\"\u001b[39m: mm3_params\u001b[38;5;241m.\u001b[39mL,\n\u001b[1;32m     10\u001b[0m             \u001b[38;5;124m\"\u001b[39m\u001b[38;5;124mss\u001b[39m\u001b[38;5;124m\"\u001b[39m: mm3_params\u001b[38;5;241m.\u001b[39mss,\n\u001b[1;32m     11\u001b[0m             \u001b[38;5;124m\"\u001b[39m\u001b[38;5;124mk\u001b[39m\u001b[38;5;124m\"\u001b[39m: mm3_params\u001b[38;5;241m.\u001b[39mk,\n\u001b[1;32m     12\u001b[0m             \u001b[38;5;124m\"\u001b[39m\u001b[38;5;124mpi\u001b[39m\u001b[38;5;124m\"\u001b[39m: mm3_params\u001b[38;5;241m.\u001b[39mpi,\n\u001b[1;32m     13\u001b[0m             \u001b[38;5;124m\"\u001b[39m\u001b[38;5;124mmap time (s)\u001b[39m\u001b[38;5;124m\"\u001b[39m: profile[\u001b[38;5;124m\"\u001b[39m\u001b[38;5;124mmap\u001b[39m\u001b[38;5;124m\"\u001b[39m]\u001b[38;5;241m.\u001b[39mtime,\n\u001b[1;32m     14\u001b[0m             \u001b[38;5;124m\"\u001b[39m\u001b[38;5;124mmap memory (b)\u001b[39m\u001b[38;5;124m\"\u001b[39m: profile[\u001b[38;5;124m\"\u001b[39m\u001b[38;5;124mmap\u001b[39m\u001b[38;5;124m\"\u001b[39m]\u001b[38;5;241m.\u001b[39mmemory\n\u001b[1;32m     15\u001b[0m         })\n",
      "\u001b[0;31mAttributeError\u001b[0m: 'str' object has no attribute 'L'"
     ]
    }
   ],
   "source": [
    "import csv\n",
    "with open(\"run-profile-mashmap2.tsv\", 'w') as profile_out:\n",
    "    writer = csv.DictWriter(profile_out, delimiter='\\t', fieldnames=[\"Name\",  \"L\", \"ss\", \"k\", \"pi\", \"map time (s)\", \"map memory (b)\"])\n",
    "    writer.writeheader()\n",
    "    for dataset_name, param_dict in dataset_run_profile.items():\n",
    "        for mm3_params, profile in param_dict.items():\n",
    "            writer.writerow({\n",
    "                \"Name\": dataset_name,\n",
    "                \"L\": mm3_params.L,\n",
    "                \"ss\": mm3_params.ss,\n",
    "                \"k\": mm3_params.k,\n",
    "                \"pi\": mm3_params.pi,\n",
    "                \"map time (s)\": profile[\"map\"].time,\n",
    "                \"map memory (b)\": profile[\"map\"].memory\n",
    "            })"
   ]
  },
  {
   "cell_type": "code",
   "execution_count": null,
   "id": "1856edf3-456c-4a04-92cf-a4157e255a2e",
   "metadata": {
    "tags": []
   },
   "outputs": [
    {
     "name": "stdout",
     "output_type": "stream",
     "text": [
      "Running chm13-HG02257-mashmap3-ss10-k19-p95-n6-L5000\n",
      "Done chm13-HG02257-mashmap3-ss10-k19-p95-n6-L5000\t 17199.20\n",
      "Running chm13-HG02257-mashmap3-ss20-k19-p95-n6-L5000\n",
      "Done chm13-HG02257-mashmap3-ss20-k19-p95-n6-L5000\t 16840.09\n",
      "Running chm13-HG02257-mashmap3-ss30-k19-p95-n6-L5000\n",
      "Done chm13-HG02257-mashmap3-ss30-k19-p95-n6-L5000\t 16488.37\n",
      "Running chm13-HG02257-mashmap3-ss40-k19-p95-n6-L5000\n",
      "Done chm13-HG02257-mashmap3-ss40-k19-p95-n6-L5000\t 16446.49\n",
      "Running chm13-HG02257-mashmap3-ss50-k19-p95-n6-L5000\n",
      "Done chm13-HG02257-mashmap3-ss50-k19-p95-n6-L5000\t 16130.39\n",
      "Running chm13-HG02257-mashmap3-ss60-k19-p95-n6-L5000\n",
      "Done chm13-HG02257-mashmap3-ss60-k19-p95-n6-L5000\t 16057.12\n",
      "Running chm13-HG02257-mashmap3-ss70-k19-p95-n6-L5000\n",
      "Done chm13-HG02257-mashmap3-ss70-k19-p95-n6-L5000\t 16117.00\n",
      "Running chm13-HG02257-mashmap3-ss80-k19-p95-n6-L5000\n",
      "Done chm13-HG02257-mashmap3-ss80-k19-p95-n6-L5000\t 16294.10\n",
      "Running chm13-HG02257-mashmap3-ss10-k31-p95-n6-L5000\n",
      "Done chm13-HG02257-mashmap3-ss10-k31-p95-n6-L5000\t 16692.61\n",
      "Running chm13-HG02257-mashmap3-ss20-k31-p95-n6-L5000\n",
      "Done chm13-HG02257-mashmap3-ss20-k31-p95-n6-L5000\t 17458.54\n",
      "Running chm13-HG02257-mashmap3-ss30-k31-p95-n6-L5000\n"
     ]
    }
   ],
   "source": [
    "CONCURRENT_RUNS = 1\n",
    "THREADS = 70\n",
    "run_name_to_fstream = defaultdict(lambda: {tn: {} for tn in toolnames})\n",
    "active_runs = {}\n",
    "\n",
    "for run in runs:\n",
    "    dataset_name = run.dataset.name\n",
    "    ref = run.dataset.reference\n",
    "    queries = run.dataset.queries\n",
    "    mm3_params = run.mashmap3_params\n",
    "    if run.mashmap3_params:\n",
    "        params = run.mashmap3_params\n",
    "        run_base_name = f\"{dataset_name}-mashmap3-ss{params.ss}-k{params.k}-p{params.pi}-n{params.n}-L{params.L}\"\n",
    "        output_dir = f\"/home/Users/blk6/Contribute/wfmash/benchmarking/{dataset_name}/{run_base_name}\"\n",
    "        Path(output_dir).mkdir(parents=True, exist_ok=True)\n",
    "        cmd_args = f\"/home/Users/blk6/Contribute/wfmash/build/bin/wfmash -t {THREADS} -n {params.n} -p {params.pi} -s {params.L} {ref} {' '.join(queries)} -i {output_dir}/{run_base_name}.paf\"\n",
    "        stdout_file = open(f\"{output_dir}/{run_base_name}.align\", 'w')\n",
    "        run_name_to_fstream[run_base_name][\"stdout\"] = stdout_file\n",
    "        stderr_file = open(f\"{output_dir}/{run_base_name}.align.err\", 'w')\n",
    "        run_name_to_fstream[run_base_name][\"stderr\"] = stderr_file\n",
    "        print(f\"Running {run_base_name}\")\n",
    "        \n",
    "        active_runs[run_base_name] = (psutil.Popen(shlex.split(cmd_args), stdout=stdout_file, stderr=stderr_file), \"mashmap3\")\n",
    "        time_tracker = 0\n",
    "        while len(active_runs) >= CONCURRENT_RUNS:\n",
    "            active_run_pairs = list(active_runs.items())\n",
    "            for rbn, (p, st) in active_run_pairs:\n",
    "                t2 = None\n",
    "                try:\n",
    "                    if p.status() == \"zombie\":\n",
    "                        raise psutil.NoSuchProcess(p.pid)\n",
    "                    curtime = time.time()\n",
    "                    if curtime > time_tracker + 5:\n",
    "                        dataset_run_profile[dataset_name][run.mashmap3_params][\"align\"].memory = max(dataset_run_profile[dataset_name][run.mashmap3_params][\"align\"].memory, p.memory_info().rss)\n",
    "                    t2 = p.cpu_times()\n",
    "                    dataset_run_profile[dataset_name][run.mashmap3_params]['align'].time = t2.system + t2.user + t2.children_system + t2.children_user\n",
    "                except psutil.NoSuchProcess as e:\n",
    "                    print(f\"Done {rbn}\\t{dataset_run_profile[dataset_name][run.mashmap3_params]['align'].time : .2f}\")\n",
    "                    run_name_to_fstream[rbn][\"stdout\"].close()\n",
    "                    run_name_to_fstream[rbn][\"stderr\"].close()\n",
    "                    del run_name_to_fstream[rbn]\n",
    "                    del active_runs[rbn]\n",
    "            if curtime > time_tracker + 5:\n",
    "                time_tracker = curtime\n",
    "                        \n",
    "\n",
    "time_tracker = 0\n",
    "while len(active_runs) > 0:\n",
    "    active_run_pairs = list(active_runs.items())\n",
    "    for rbn, (p, st) in active_run_pairs:\n",
    "        t2 = None\n",
    "        try:\n",
    "            curtime = time.time()\n",
    "            if curtime > time_tracker + 5:\n",
    "                dataset_run_profile[dataset_name][run.mashmap3_params][\"align\"].memory = max(dataset_run_profile[dataset_name][run.mashmap3_params][\"align\"].memory, p.memory_info().rss)\n",
    "            t2 = p.cpu_times()\n",
    "            dataset_run_profile[dataset_name][run.mashmap3_params]['align'].time = t2.system + t2.user + t2.children_system + t2.children_user\n",
    "            if p.status() == \"zombie\":\n",
    "                raise psutil.NoSuchProcess(p.pid)\n",
    "        except psutil.NoSuchProcess as e:\n",
    "            print(f\"Done {rbn}\\t{dataset_run_profile[dataset_name][run.mashmap3_params]['align'].time : .2f}\")\n",
    "            run_name_to_fstream[rbn][\"stdout\"].close()\n",
    "            run_name_to_fstream[rbn][\"stderr\"].close()\n",
    "            del run_name_to_fstream[rbn]\n",
    "            del active_runs[rbn]\n",
    "    if curtime > time_tracker + 5:\n",
    "        time_tracker = curtime\n",
    "                        \n"
   ]
  },
  {
   "cell_type": "code",
   "execution_count": 224,
   "id": "b8b12a61-a416-443f-a36a-342e17f4d58e",
   "metadata": {},
   "outputs": [],
   "source": [
    "import pickle as pck\n",
    "with open(\"map-times-nochain.pck\", 'wb') as mapping_out:\n",
    "    pck.dump(run_name_to_runtime, mapping_out)\n",
    "with open(\"map-mems-nochain.pck\", 'wb') as mapping_out:\n",
    "    pck.dump(run_name_to_memprof, mapping_out)"
   ]
  },
  {
   "cell_type": "code",
   "execution_count": 274,
   "id": "62009c29-104b-4aa8-aa06-5c469ef2a2d4",
   "metadata": {},
   "outputs": [
    {
     "name": "stdout",
     "output_type": "stream",
     "text": [
      "dict_keys(['minmer-ss40-p95-n1-L5000', 'minmer-ss40-p90-n1-L5000', 'minmer-ss40-p85-n1-L5000', 'minmer-ss40-p80-n1-L5000', 'minmer-ss60-p95-n1-L5000', 'minmer-ss60-p90-n1-L5000', 'minmer-ss60-p85-n1-L5000', 'minmer-ss60-p80-n1-L5000', 'minmer-ss80-p95-n1-L5000', 'minmer-ss80-p90-n1-L5000', 'minmer-ss80-p85-n1-L5000', 'minmer-ss80-p80-n1-L5000', 'minmer-ss100-p95-n1-L5000', 'minmer-ss100-p90-n1-L5000', 'minmer-ss100-p85-n1-L5000', 'minmer-ss100-p80-n1-L5000'])\n"
     ]
    },
    {
     "data": {
      "image/png": "[encoded data removed]",
      "text/plain": [
       "<Figure size 720x432 with 1 Axes>"
      ]
     },
     "metadata": {},
     "output_type": "display_data"
    }
   ],
   "source": [
    "import matplotlib.patches as mpatches\n",
    "\n",
    "SS=100\n",
    "Ps = [85, 90, 95]\n",
    "labels = [f\"p{p}-n1-L5000\" for p in Ps]\n",
    "width = 0.35\n",
    "x = np.arange(len(labels))\n",
    "print(run_name_to_runtime[\"minmer\"].keys())\n",
    "minmer_map_times = [int(run_name_to_runtime[\"minmer\"][f\"minmer-ss{SS}-{label}\"]) for label in labels]\n",
    "minmer_align_times = [int(run_name_to_runtime_align[\"minmer\"][f\"minmer-ss{SS}-{label}\"]) for label in labels]\n",
    "\n",
    "minimizer_map_times = [int(run_name_to_runtime[\"minimizer\"][f\"minimizer-{label}\"]) for label in labels]\n",
    "minimizer_align_times = [int(run_name_to_runtime_align[\"minimizer\"][f\"minimizer-{label}\"]) for label in labels]\n",
    "\n",
    "\n",
    "fig, ax = plt.subplots()\n",
    "map_patch = mpatches.Patch(color='orange', label='Map')\n",
    "align_patch = mpatches.Patch(color='steelblue', label='Align')\n",
    "minmer_patch = mpatches.Patch(facecolor=\"white\", edgecolor=\"black\", label=f'Minmer SS={SS}', hatch=\"/\")\n",
    "minimizer_patch = mpatches.Patch(facecolor=\"white\", edgecolor=\"black\", label=f'Minimizer')\n",
    "\n",
    "rects1 = ax.bar(x + width/2, minmer_map_times, width, label=\"Map\", color=\"orange\", hatch='/')\n",
    "rects2 = ax.bar(x + width/2, minmer_align_times, width, label='Align', bottom=minmer_map_times, color=\"steelblue\",  hatch='/')\n",
    "rects3 = ax.bar(x - width/2, minimizer_map_times, width, label=\"Map\", color=\"orange\")\n",
    "rects4 = ax.bar(x - width/2, minimizer_align_times, width, label='Align', bottom=minimizer_map_times, color=\"steelblue\")\n",
    "# rects4\n",
    "\n",
    "# Add some text for labels, title and custom x-axis tick labels, etc.\n",
    "ax.set_ylabel('Time (s)')\n",
    "ax.set_title('wfmash CPU time')\n",
    "ax.set_xticks(x, labels, rotation=-45)\n",
    "ax.set_ylim(1, 7e5)\n",
    "ax.legend(handles=[map_patch, align_patch, minmer_patch, minimizer_patch])\n",
    "# ax.set_yscale(\"log\")\n",
    "\n",
    "ax.bar_label(rects1, padding=3)\n",
    "ax.bar_label(rects2, padding=10)\n",
    "ax.bar_label(rects3, padding=3)\n",
    "ax.bar_label(rects4, padding=5)\n",
    "\n",
    "fig.tight_layout()\n",
    "\n",
    "plt.show()"
   ]
  },
  {
   "cell_type": "code",
   "execution_count": 283,
   "id": "68125f2a-ab54-4e97-8df1-1976af202714",
   "metadata": {},
   "outputs": [
    {
     "data": {
      "text/plain": [
       "[5, 5, 3, 2]"
      ]
     },
     "execution_count": 283,
     "metadata": {},
     "output_type": "execute_result"
    }
   ],
   "source": [
    "minimizer_map_mems"
   ]
  },
  {
   "cell_type": "code",
   "execution_count": 279,
   "id": "c3fd840a-bd20-4d91-8db5-57d07d45ca53",
   "metadata": {},
   "outputs": [
    {
     "ename": "ValueError",
     "evalue": "shape mismatch: objects cannot be broadcast to a single shape.  Mismatch is between arg 0 with shape (4,) and arg 3 with shape (3,).",
     "output_type": "error",
     "traceback": [
      "\u001b[0;31m---------------------------------------------------------------------------\u001b[0m",
      "\u001b[0;31mValueError\u001b[0m                                Traceback (most recent call last)",
      "Input \u001b[0;32mIn [279]\u001b[0m, in \u001b[0;36m<cell line: 23>\u001b[0;34m()\u001b[0m\n\u001b[1;32m     20\u001b[0m minimizer_patch \u001b[38;5;241m=\u001b[39m mpatches\u001b[38;5;241m.\u001b[39mPatch(facecolor\u001b[38;5;241m=\u001b[39m\u001b[38;5;124m\"\u001b[39m\u001b[38;5;124morange\u001b[39m\u001b[38;5;124m\"\u001b[39m, edgecolor\u001b[38;5;241m=\u001b[39m\u001b[38;5;124m\"\u001b[39m\u001b[38;5;124mblack\u001b[39m\u001b[38;5;124m\"\u001b[39m, label\u001b[38;5;241m=\u001b[39m\u001b[38;5;124mf\u001b[39m\u001b[38;5;124m'\u001b[39m\u001b[38;5;124mMinimizer\u001b[39m\u001b[38;5;124m'\u001b[39m)\n\u001b[1;32m     22\u001b[0m \u001b[38;5;66;03m# rects1 = ax.bar(x + width/2, minmer_map_mems, width, label=\"Map\", color=\"orange\", hatch='/')\u001b[39;00m\n\u001b[0;32m---> 23\u001b[0m rects2 \u001b[38;5;241m=\u001b[39m ax\u001b[38;5;241m.\u001b[39mbar(x \u001b[38;5;241m+\u001b[39m width\u001b[38;5;241m/\u001b[39m\u001b[38;5;241m2\u001b[39m, minmer_align_mems, width, label\u001b[38;5;241m=\u001b[39m\u001b[38;5;124m'\u001b[39m\u001b[38;5;124mAlign\u001b[39m\u001b[38;5;124m'\u001b[39m, bottom\u001b[38;5;241m=\u001b[39mminmer_map_times, color\u001b[38;5;241m=\u001b[39m\u001b[38;5;124m\"\u001b[39m\u001b[38;5;124msteelblue\u001b[39m\u001b[38;5;124m\"\u001b[39m,  hatch\u001b[38;5;241m=\u001b[39m\u001b[38;5;124m'\u001b[39m\u001b[38;5;124m/\u001b[39m\u001b[38;5;124m'\u001b[39m)\n\u001b[1;32m     24\u001b[0m \u001b[38;5;66;03m# rects3 = ax.bar(x - width/2, minimizer_map_mems, width, label=\"Map\", color=\"orange\")\u001b[39;00m\n\u001b[1;32m     25\u001b[0m rects4 \u001b[38;5;241m=\u001b[39m ax\u001b[38;5;241m.\u001b[39mbar(x \u001b[38;5;241m-\u001b[39m width\u001b[38;5;241m/\u001b[39m\u001b[38;5;241m2\u001b[39m, minimizer_align_mems, width, label\u001b[38;5;241m=\u001b[39m\u001b[38;5;124m'\u001b[39m\u001b[38;5;124mAlign\u001b[39m\u001b[38;5;124m'\u001b[39m, bottom\u001b[38;5;241m=\u001b[39mminimizer_map_times, color\u001b[38;5;241m=\u001b[39m\u001b[38;5;124m\"\u001b[39m\u001b[38;5;124msteelblue\u001b[39m\u001b[38;5;124m\"\u001b[39m)\n",
      "File \u001b[0;32m/home/software/miniconda3/envs/blk6/lib/python3.9/site-packages/matplotlib/__init__.py:1412\u001b[0m, in \u001b[0;36m_preprocess_data.<locals>.inner\u001b[0;34m(ax, data, *args, **kwargs)\u001b[0m\n\u001b[1;32m   1409\u001b[0m \u001b[38;5;129m@functools\u001b[39m\u001b[38;5;241m.\u001b[39mwraps(func)\n\u001b[1;32m   1410\u001b[0m \u001b[38;5;28;01mdef\u001b[39;00m \u001b[38;5;21minner\u001b[39m(ax, \u001b[38;5;241m*\u001b[39margs, data\u001b[38;5;241m=\u001b[39m\u001b[38;5;28;01mNone\u001b[39;00m, \u001b[38;5;241m*\u001b[39m\u001b[38;5;241m*\u001b[39mkwargs):\n\u001b[1;32m   1411\u001b[0m     \u001b[38;5;28;01mif\u001b[39;00m data \u001b[38;5;129;01mis\u001b[39;00m \u001b[38;5;28;01mNone\u001b[39;00m:\n\u001b[0;32m-> 1412\u001b[0m         \u001b[38;5;28;01mreturn\u001b[39;00m \u001b[43mfunc\u001b[49m\u001b[43m(\u001b[49m\u001b[43max\u001b[49m\u001b[43m,\u001b[49m\u001b[43m \u001b[49m\u001b[38;5;241;43m*\u001b[39;49m\u001b[38;5;28;43mmap\u001b[39;49m\u001b[43m(\u001b[49m\u001b[43msanitize_sequence\u001b[49m\u001b[43m,\u001b[49m\u001b[43m \u001b[49m\u001b[43margs\u001b[49m\u001b[43m)\u001b[49m\u001b[43m,\u001b[49m\u001b[43m \u001b[49m\u001b[38;5;241;43m*\u001b[39;49m\u001b[38;5;241;43m*\u001b[39;49m\u001b[43mkwargs\u001b[49m\u001b[43m)\u001b[49m\n\u001b[1;32m   1414\u001b[0m     bound \u001b[38;5;241m=\u001b[39m new_sig\u001b[38;5;241m.\u001b[39mbind(ax, \u001b[38;5;241m*\u001b[39margs, \u001b[38;5;241m*\u001b[39m\u001b[38;5;241m*\u001b[39mkwargs)\n\u001b[1;32m   1415\u001b[0m     auto_label \u001b[38;5;241m=\u001b[39m (bound\u001b[38;5;241m.\u001b[39marguments\u001b[38;5;241m.\u001b[39mget(label_namer)\n\u001b[1;32m   1416\u001b[0m                   \u001b[38;5;129;01mor\u001b[39;00m bound\u001b[38;5;241m.\u001b[39mkwargs\u001b[38;5;241m.\u001b[39mget(label_namer))\n",
      "File \u001b[0;32m/home/software/miniconda3/envs/blk6/lib/python3.9/site-packages/matplotlib/axes/_axes.py:2342\u001b[0m, in \u001b[0;36mAxes.bar\u001b[0;34m(self, x, height, width, bottom, align, **kwargs)\u001b[0m\n\u001b[1;32m   2339\u001b[0m     \u001b[38;5;28;01mif\u001b[39;00m yerr \u001b[38;5;129;01mis\u001b[39;00m \u001b[38;5;129;01mnot\u001b[39;00m \u001b[38;5;28;01mNone\u001b[39;00m:\n\u001b[1;32m   2340\u001b[0m         yerr \u001b[38;5;241m=\u001b[39m \u001b[38;5;28mself\u001b[39m\u001b[38;5;241m.\u001b[39m_convert_dx(yerr, y0, y, \u001b[38;5;28mself\u001b[39m\u001b[38;5;241m.\u001b[39mconvert_yunits)\n\u001b[0;32m-> 2342\u001b[0m x, height, width, y, linewidth, hatch \u001b[38;5;241m=\u001b[39m \u001b[43mnp\u001b[49m\u001b[38;5;241;43m.\u001b[39;49m\u001b[43mbroadcast_arrays\u001b[49m\u001b[43m(\u001b[49m\n\u001b[1;32m   2343\u001b[0m \u001b[43m    \u001b[49m\u001b[38;5;66;43;03m# Make args iterable too.\u001b[39;49;00m\n\u001b[1;32m   2344\u001b[0m \u001b[43m    \u001b[49m\u001b[43mnp\u001b[49m\u001b[38;5;241;43m.\u001b[39;49m\u001b[43matleast_1d\u001b[49m\u001b[43m(\u001b[49m\u001b[43mx\u001b[49m\u001b[43m)\u001b[49m\u001b[43m,\u001b[49m\u001b[43m \u001b[49m\u001b[43mheight\u001b[49m\u001b[43m,\u001b[49m\u001b[43m \u001b[49m\u001b[43mwidth\u001b[49m\u001b[43m,\u001b[49m\u001b[43m \u001b[49m\u001b[43my\u001b[49m\u001b[43m,\u001b[49m\u001b[43m \u001b[49m\u001b[43mlinewidth\u001b[49m\u001b[43m,\u001b[49m\u001b[43m \u001b[49m\u001b[43mhatch\u001b[49m\u001b[43m)\u001b[49m\n\u001b[1;32m   2346\u001b[0m \u001b[38;5;66;03m# Now that units have been converted, set the tick locations.\u001b[39;00m\n\u001b[1;32m   2347\u001b[0m \u001b[38;5;28;01mif\u001b[39;00m orientation \u001b[38;5;241m==\u001b[39m \u001b[38;5;124m'\u001b[39m\u001b[38;5;124mvertical\u001b[39m\u001b[38;5;124m'\u001b[39m:\n",
      "File \u001b[0;32m<__array_function__ internals>:180\u001b[0m, in \u001b[0;36mbroadcast_arrays\u001b[0;34m(*args, **kwargs)\u001b[0m\n",
      "File \u001b[0;32m/home/software/miniconda3/envs/blk6/lib/python3.9/site-packages/numpy/lib/stride_tricks.py:540\u001b[0m, in \u001b[0;36mbroadcast_arrays\u001b[0;34m(subok, *args)\u001b[0m\n\u001b[1;32m    533\u001b[0m \u001b[38;5;66;03m# nditer is not used here to avoid the limit of 32 arrays.\u001b[39;00m\n\u001b[1;32m    534\u001b[0m \u001b[38;5;66;03m# Otherwise, something like the following one-liner would suffice:\u001b[39;00m\n\u001b[1;32m    535\u001b[0m \u001b[38;5;66;03m# return np.nditer(args, flags=['multi_index', 'zerosize_ok'],\u001b[39;00m\n\u001b[1;32m    536\u001b[0m \u001b[38;5;66;03m#                  order='C').itviews\u001b[39;00m\n\u001b[1;32m    538\u001b[0m args \u001b[38;5;241m=\u001b[39m [np\u001b[38;5;241m.\u001b[39marray(_m, copy\u001b[38;5;241m=\u001b[39m\u001b[38;5;28;01mFalse\u001b[39;00m, subok\u001b[38;5;241m=\u001b[39msubok) \u001b[38;5;28;01mfor\u001b[39;00m _m \u001b[38;5;129;01min\u001b[39;00m args]\n\u001b[0;32m--> 540\u001b[0m shape \u001b[38;5;241m=\u001b[39m \u001b[43m_broadcast_shape\u001b[49m\u001b[43m(\u001b[49m\u001b[38;5;241;43m*\u001b[39;49m\u001b[43margs\u001b[49m\u001b[43m)\u001b[49m\n\u001b[1;32m    542\u001b[0m \u001b[38;5;28;01mif\u001b[39;00m \u001b[38;5;28mall\u001b[39m(array\u001b[38;5;241m.\u001b[39mshape \u001b[38;5;241m==\u001b[39m shape \u001b[38;5;28;01mfor\u001b[39;00m array \u001b[38;5;129;01min\u001b[39;00m args):\n\u001b[1;32m    543\u001b[0m     \u001b[38;5;66;03m# Common case where nothing needs to be broadcasted.\u001b[39;00m\n\u001b[1;32m    544\u001b[0m     \u001b[38;5;28;01mreturn\u001b[39;00m args\n",
      "File \u001b[0;32m/home/software/miniconda3/envs/blk6/lib/python3.9/site-packages/numpy/lib/stride_tricks.py:422\u001b[0m, in \u001b[0;36m_broadcast_shape\u001b[0;34m(*args)\u001b[0m\n\u001b[1;32m    417\u001b[0m \u001b[38;5;124;03m\"\"\"Returns the shape of the arrays that would result from broadcasting the\u001b[39;00m\n\u001b[1;32m    418\u001b[0m \u001b[38;5;124;03msupplied arrays against each other.\u001b[39;00m\n\u001b[1;32m    419\u001b[0m \u001b[38;5;124;03m\"\"\"\u001b[39;00m\n\u001b[1;32m    420\u001b[0m \u001b[38;5;66;03m# use the old-iterator because np.nditer does not handle size 0 arrays\u001b[39;00m\n\u001b[1;32m    421\u001b[0m \u001b[38;5;66;03m# consistently\u001b[39;00m\n\u001b[0;32m--> 422\u001b[0m b \u001b[38;5;241m=\u001b[39m \u001b[43mnp\u001b[49m\u001b[38;5;241;43m.\u001b[39;49m\u001b[43mbroadcast\u001b[49m\u001b[43m(\u001b[49m\u001b[38;5;241;43m*\u001b[39;49m\u001b[43margs\u001b[49m\u001b[43m[\u001b[49m\u001b[43m:\u001b[49m\u001b[38;5;241;43m32\u001b[39;49m\u001b[43m]\u001b[49m\u001b[43m)\u001b[49m\n\u001b[1;32m    423\u001b[0m \u001b[38;5;66;03m# unfortunately, it cannot handle 32 or more arguments directly\u001b[39;00m\n\u001b[1;32m    424\u001b[0m \u001b[38;5;28;01mfor\u001b[39;00m pos \u001b[38;5;129;01min\u001b[39;00m \u001b[38;5;28mrange\u001b[39m(\u001b[38;5;241m32\u001b[39m, \u001b[38;5;28mlen\u001b[39m(args), \u001b[38;5;241m31\u001b[39m):\n\u001b[1;32m    425\u001b[0m     \u001b[38;5;66;03m# ironically, np.broadcast does not properly handle np.broadcast\u001b[39;00m\n\u001b[1;32m    426\u001b[0m     \u001b[38;5;66;03m# objects (it treats them as scalars)\u001b[39;00m\n\u001b[1;32m    427\u001b[0m     \u001b[38;5;66;03m# use broadcasting to avoid allocating the full array\u001b[39;00m\n",
      "\u001b[0;31mValueError\u001b[0m: shape mismatch: objects cannot be broadcast to a single shape.  Mismatch is between arg 0 with shape (4,) and arg 3 with shape (3,)."
     ]
    },
    {
     "data": {
      "image/png": "[encoded data removed]",
      "text/plain": [
       "<Figure size 720x432 with 1 Axes>"
      ]
     },
     "metadata": {},
     "output_type": "display_data"
    }
   ],
   "source": [
    "import matplotlib.patches as mpatches\n",
    "\n",
    "SS=40\n",
    "Ps = [80, 85, 90, 95]\n",
    "labels = [f\"p{p}-n1-L5000\" for p in Ps]\n",
    "width = 0.35\n",
    "x = np.arange(len(labels))\n",
    "\n",
    "minmer_map_mems = [int(max( z.rss/1000000000 for z in run_name_to_memprof[\"minmer\"][f\"minmer-ss{SS}-{label}\"])) for label in labels]\n",
    "minmer_align_mems = [int(max(z.rss/1000000000 for z in run_name_to_memprof_align[\"minmer\"][f\"minmer-ss{SS}-{label}\"])) for label in labels]\n",
    "\n",
    "minimizer_map_mems = [int(max(z.rss/1000000000 for z in run_name_to_memprof[\"minimizer\"][f\"minimizer-{label}\"])) for label in labels]\n",
    "minimizer_align_mems = [int(max(z.rss/1000000000 for z in run_name_to_memprof_align[\"minimizer\"][f\"minimizer-{label}\"])) for label in labels]\n",
    "\n",
    "\n",
    "fig, ax = plt.subplots()\n",
    "map_patch = mpatches.Patch(color='orange', label='Map')\n",
    "align_patch = mpatches.Patch(color='steelblue', label='Align')\n",
    "minmer_patch = mpatches.Patch(facecolor=\"orange\", edgecolor=\"black\", label=f'Minmer SS={SS}', hatch=\"/\")\n",
    "minimizer_patch = mpatches.Patch(facecolor=\"orange\", edgecolor=\"black\", label=f'Minimizer')\n",
    "\n",
    "# rects1 = ax.bar(x + width/2, minmer_map_mems, width, label=\"Map\", color=\"orange\", hatch='/')\n",
    "rects2 = ax.bar(x + width/2, minmer_align_mems, width, label='Align', bottom=minmer_map_times, color=\"steelblue\",  hatch='/')\n",
    "# rects3 = ax.bar(x - width/2, minimizer_map_mems, width, label=\"Map\", color=\"orange\")\n",
    "rects4 = ax.bar(x - width/2, minimizer_align_mems, width, label='Align', bottom=minimizer_map_times, color=\"steelblue\")\n",
    "# rects3 = ax.bar(x + width/2, women_means, width, label='Minimizer')\n",
    "# rects4\n",
    "\n",
    "# Add some text for labels, title and custom x-axis tick labels, etc.\n",
    "ax.set_ylabel('Mem (Gb)')\n",
    "ax.set_title('wfmash Peak RAM (mapping)')\n",
    "ax.set_xticks(x, labels, rotation=-45)\n",
    "ax.set_ylim(0, 350)\n",
    "ax.legend(handles=[minmer_patch, minimizer_patch])\n",
    "# ax.set_yscale(\"log\")\n",
    "\n",
    "ax.bar_label(rects1, padding=3)\n",
    "# ax.bar_label(rects2, padding=3)\n",
    "ax.bar_label(rects3, padding=3)\n",
    "# ax.bar_label(rects4, padding=3)\n",
    "\n",
    "fig.tight_layout()\n",
    "\n",
    "plt.show()"
   ]
  },
  {
   "cell_type": "markdown",
   "id": "137df149-99eb-4cc2-895a-e3edc3245d60",
   "metadata": {},
   "source": [
    "# Results analysis\n"
   ]
  },
  {
   "cell_type": "code",
   "execution_count": null,
   "id": "19788c82-bf69-4b75-89ad-dc5d7156fd46",
   "metadata": {},
   "outputs": [],
   "source": [
    "reference_f = SeqIO.index(\"/home/Users/blk6/Data/reads/human/T2T_v2.1.fna\", \"fasta\")\n",
    "query_index = SeqIO.index(\"/home/Users/blk6/Data/assemblies/human/GCA_018466835.1.fa\", \"fasta\")\n"
   ]
  },
  {
   "cell_type": "code",
   "execution_count": null,
   "id": "0f3fbd59-0ef0-4714-be43-af3229573250",
   "metadata": {},
   "outputs": [
    {
     "data": {
      "application/vnd.jupyter.widget-view+json": {
       "model_id": "19906901c6e04d2ebb46933ba3cea702",
       "version_major": 2,
       "version_minor": 0
      },
      "text/plain": [
       "  0%|          | 0/306 [00:00<?, ?it/s]"
      ]
     },
     "metadata": {},
     "output_type": "display_data"
    }
   ],
   "source": [
    "rid_to_len = {rid: len(seq) for rid, seq in tqdm(query_index.items())}"
   ]
  },
  {
   "cell_type": "code",
   "execution_count": null,
   "id": "84eb8ba8-d5ab-4b69-85a3-66f6a471f836",
   "metadata": {},
   "outputs": [],
   "source": [
    "minimizer_paf_file = \"ref-to-HG-minimizer-p85-n3.align\"\n",
    "minmer_paf_file =    \"ref-to-HG-minmer-ss70-p85-n3.align\"\n",
    "\n",
    "seed_types = [\"minmer\", \"minimizer\"]\n",
    "paf_files = {\"minmer\": \"ref-to-HG-minmer-ss70-p85-n3.align\", \"minimizer\": \"ref-to-HG-minimizer-p85-n3.align\"}\n",
    "IT_dicts = {\"minmer\": defaultdict(itree.IntervalTree), \"minimizer\": defaultdict(itree.IntervalTree)}"
   ]
  },
  {
   "cell_type": "code",
   "execution_count": null,
   "id": "92017e73-d3f6-4129-a152-b22247b03d19",
   "metadata": {},
   "outputs": [
    {
     "data": {
      "application/vnd.jupyter.widget-view+json": {
       "model_id": "b0384f0aff294a46a4be3cbbf456e712",
       "version_major": 2,
       "version_minor": 0
      },
      "text/plain": [
       "0it [00:00, ?it/s]"
      ]
     },
     "metadata": {},
     "output_type": "display_data"
    },
    {
     "data": {
      "application/vnd.jupyter.widget-view+json": {
       "model_id": "0abcde3081824778941692d3856cc738",
       "version_major": 2,
       "version_minor": 0
      },
      "text/plain": [
       "0it [00:00, ?it/s]"
      ]
     },
     "metadata": {},
     "output_type": "display_data"
    }
   ],
   "source": [
    "for seed_type in seed_types:\n",
    "    with PafFile(paf_files[seed_type]) as paf_reader:\n",
    "        for record in tqdm(paf_reader):\n",
    "            IT_dicts[seed_type][record.qname].addi(record.qstart, record.qend, record)"
   ]
  },
  {
   "cell_type": "code",
   "execution_count": null,
   "id": "71923633-0b11-4d99-b7e3-e3e6abd315af",
   "metadata": {},
   "outputs": [
    {
     "data": {
      "application/vnd.jupyter.widget-view+json": {
       "model_id": "9a6a1fb27ee54c6e967ed618f00055e0",
       "version_major": 2,
       "version_minor": 0
      },
      "text/plain": [
       "  0%|          | 0/306 [00:00<?, ?it/s]"
      ]
     },
     "metadata": {},
     "output_type": "display_data"
    }
   ],
   "source": [
    "coverage_dicts = {\"minmer\": defaultdict(float), \"minimizer\": defaultdict(float)}\n",
    "\n",
    "for rid in tqdm(query_index):\n",
    "    for seed_type in seed_types:\n",
    "        rid_len = rid_to_len[rid]\n",
    "        tree = IT_dicts[seed_type][rid]\n",
    "        tree.merge_overlaps()\n",
    "        covered_nucs = 0\n",
    "        for (start, end, _) in tree:\n",
    "            covered_nucs += end-start\n",
    "        coverage_dicts[seed_type][rid] = covered_nucs / rid_len\n",
    "\n",
    "    # print(f\"{rid}:\\t{coverage_dicts['minmer'][rid]/rid_len: .3f}\\t{coverage_dicts['minimizer'][rid]/rid_len: .3f}\")\n",
    "    "
   ]
  },
  {
   "cell_type": "code",
   "execution_count": null,
   "id": "3318af17-3c75-4ffa-bf1f-79037f951729",
   "metadata": {
    "tags": []
   },
   "outputs": [],
   "source": [
    "def symlog_bins(arr, n_bins, zero_eps=0.1, padding=0):\n",
    "    \"\"\"\n",
    "    Splits a data range into log-like bins but with 0 and negative values taken into account.\n",
    "    Can be used together with matplotlib 'symlog' axis sacale (i.e. ax.set_xscale('symlog'))\n",
    "    Feel free to contribute: https://gist.github.com/artoby/0bcf790cfebed5805fbbb6a9853fe5d5\n",
    "    \"\"\"\n",
    "    a = min(arr) / (1 + padding)\n",
    "    b = max(arr) * (1 + padding)\n",
    "        \n",
    "    if a > b:\n",
    "        a, b = b, a\n",
    "        \n",
    "    neg_range_log = None\n",
    "    if a < -zero_eps:\n",
    "        neg_range_log = [np.log10(-a), np.log10(zero_eps)]\n",
    "    \n",
    "    # Add a value to zero bin edges in case a lies within [-zero_eps; zero_eps) - so an additional bin will be added before positive range\n",
    "    zero_bin_edges = []\n",
    "    if -zero_eps <= a < zero_eps:\n",
    "        zero_bin_edges = [a]\n",
    "            \n",
    "    pos_range_log = None\n",
    "    if b > zero_eps:\n",
    "        pos_range_log = [np.log10(max(a, zero_eps)), np.log10(b)]\n",
    "\n",
    "    nonzero_n_bin_edges = n_bins + 1 - len(zero_bin_edges)\n",
    "    \n",
    "    neg_range_log_size = (neg_range_log[0] - neg_range_log[1]) if neg_range_log is not None else 0\n",
    "    pos_range_log_size = (pos_range_log[1] - pos_range_log[0]) if pos_range_log is not None else 0\n",
    "    \n",
    "    range_log_size = neg_range_log_size + pos_range_log_size\n",
    "    pos_n_bin_edges_raw = int(round(nonzero_n_bin_edges * (pos_range_log_size/range_log_size))) if range_log_size > 0 else 0\n",
    "    # Ensure each range has at least 2 edges if it's not empty\n",
    "    neg_n_bin_edges = max(2, nonzero_n_bin_edges - pos_n_bin_edges_raw) if neg_range_log_size > 0 else 0\n",
    "    pos_n_bin_edges = max(2, nonzero_n_bin_edges - neg_n_bin_edges) if pos_range_log_size > 0 else 0\n",
    "    \n",
    "    neg_bin_edges = []\n",
    "    if neg_n_bin_edges > 0:\n",
    "        neg_bin_edges = list(-np.logspace(neg_range_log[0], neg_range_log[1], neg_n_bin_edges))\n",
    "        \n",
    "    pos_bin_edges = []\n",
    "    if pos_n_bin_edges > 0:\n",
    "        pos_bin_edges = list(np.logspace(pos_range_log[0], pos_range_log[1], pos_n_bin_edges))\n",
    "    \n",
    "    result = neg_bin_edges + zero_bin_edges + pos_bin_edges\n",
    "    return result"
   ]
  },
  {
   "cell_type": "code",
   "execution_count": 226,
   "id": "eeae4623-7d55-4c4d-b9c0-b9930b05150a",
   "metadata": {},
   "outputs": [
    {
     "ename": "NameError",
     "evalue": "name 'rid_to_len' is not defined",
     "output_type": "error",
     "traceback": [
      "\u001b[0;31m---------------------------------------------------------------------------\u001b[0m",
      "\u001b[0;31mNameError\u001b[0m                                 Traceback (most recent call last)",
      "Input \u001b[0;32mIn [226]\u001b[0m, in \u001b[0;36m<cell line: 1>\u001b[0;34m()\u001b[0m\n\u001b[0;32m----> 1\u001b[0m diffs \u001b[38;5;241m=\u001b[39m [rid_to_len[rid]\u001b[38;5;241m*\u001b[39m(coverage_dicts[\u001b[38;5;124m\"\u001b[39m\u001b[38;5;124mminmer\u001b[39m\u001b[38;5;124m\"\u001b[39m][rid] \u001b[38;5;241m-\u001b[39m coverage_dicts[\u001b[38;5;124m\"\u001b[39m\u001b[38;5;124mminimizer\u001b[39m\u001b[38;5;124m\"\u001b[39m][rid]) \u001b[38;5;28;01mfor\u001b[39;00m rid \u001b[38;5;129;01min\u001b[39;00m rid_to_len\u001b[38;5;241m.\u001b[39mkeys()]\n\u001b[1;32m      2\u001b[0m bins \u001b[38;5;241m=\u001b[39m symlog_bins(diffs, n_bins\u001b[38;5;241m=\u001b[39m\u001b[38;5;241m100\u001b[39m)\n\u001b[1;32m      3\u001b[0m plt\u001b[38;5;241m.\u001b[39mhist(diffs, bins\u001b[38;5;241m=\u001b[39mbins)\n",
      "\u001b[0;31mNameError\u001b[0m: name 'rid_to_len' is not defined"
     ]
    }
   ],
   "source": [
    "diffs = [rid_to_len[rid]*(coverage_dicts[\"minmer\"][rid] - coverage_dicts[\"minimizer\"][rid]) for rid in rid_to_len.keys()]\n",
    "bins = symlog_bins(diffs, n_bins=100)\n",
    "plt.hist(diffs, bins=bins)\n",
    "plt.title(\"Difference in Minmer nuc. covered vs Minimizer nuc. covered\")\n",
    "plt.xscale(\"symlog\")\n",
    "plt.show()\n",
    "print(stats.describe(diffs))"
   ]
  },
  {
   "cell_type": "code",
   "execution_count": null,
   "id": "c6ec3b1b-cc2f-427c-a488-10968b694239",
   "metadata": {},
   "outputs": [
    {
     "data": {
      "image/png": "[encoded data removed]",
      "text/plain": [
       "<Figure size 432x288 with 1 Axes>"
      ]
     },
     "metadata": {
      "needs_background": "light"
     },
     "output_type": "display_data"
    },
    {
     "name": "stdout",
     "output_type": "stream",
     "text": [
      "DescribeResult(nobs=306, minmax=(-1.0, 1.0), mean=0.038200096452483435, variance=0.09561901452837603, skewness=0.6911491340882462, kurtosis=4.6523172360747305)\n"
     ]
    }
   ],
   "source": [
    "diffs = [(coverage_dicts[\"minmer\"][rid] - coverage_dicts[\"minimizer\"][rid]) for rid in rid_to_len.keys()]\n",
    "# bins = symlog_bins(diffs, n_bins=100)\n",
    "bins = list(np.linspace(min(diffs), max(diffs), 24))\n",
    "plt.hist(diffs, bins=bins)\n",
    "plt.title(\"Difference in Minmer nuc. covered vs Minimizer nuc. covered\")\n",
    "plt.show()\n",
    "print(stats.describe(diffs))"
   ]
  }
 ],
 "metadata": {
  "kernelspec": {
   "display_name": "Python 3 (ipykernel)",
   "language": "python",
   "name": "python3"
  },
  "language_info": {
   "codemirror_mode": {
    "name": "ipython",
    "version": 3
   },
   "file_extension": ".py",
   "mimetype": "text/x-python",
   "name": "python",
   "nbconvert_exporter": "python",
   "pygments_lexer": "ipython3",
   "version": "3.9.13"
  }
 },
 "nbformat": 4,
 "nbformat_minor": 5
}
